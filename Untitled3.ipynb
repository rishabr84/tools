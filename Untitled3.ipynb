{
  "nbformat": 4,
  "nbformat_minor": 0,
  "metadata": {
    "colab": {
      "provenance": [],
      "authorship_tag": "ABX9TyM3wzYQa5m7aubGU8Y6rAHZ",
      "include_colab_link": true
    },
    "kernelspec": {
      "name": "python3",
      "display_name": "Python 3"
    },
    "language_info": {
      "name": "python"
    },
    "widgets": {
      "application/vnd.jupyter.widget-state+json": {
        "ac0bed08263d4e54a78a6e62bec79157": {
          "model_module": "@jupyter-widgets/controls",
          "model_name": "TextModel",
          "model_module_version": "1.5.0",
          "state": {
            "_dom_classes": [],
            "_model_module": "@jupyter-widgets/controls",
            "_model_module_version": "1.5.0",
            "_model_name": "TextModel",
            "_view_count": null,
            "_view_module": "@jupyter-widgets/controls",
            "_view_module_version": "1.5.0",
            "_view_name": "TextView",
            "continuous_update": true,
            "description": "Stock Ticker:",
            "description_tooltip": null,
            "disabled": false,
            "layout": "IPY_MODEL_19684ab73223414a8e08ff1157314e47",
            "placeholder": "Enter Stock Ticker",
            "style": "IPY_MODEL_f272a10730184d2ba47b5031cbf3ae0a",
            "value": ""
          }
        },
        "19684ab73223414a8e08ff1157314e47": {
          "model_module": "@jupyter-widgets/base",
          "model_name": "LayoutModel",
          "model_module_version": "1.2.0",
          "state": {
            "_model_module": "@jupyter-widgets/base",
            "_model_module_version": "1.2.0",
            "_model_name": "LayoutModel",
            "_view_count": null,
            "_view_module": "@jupyter-widgets/base",
            "_view_module_version": "1.2.0",
            "_view_name": "LayoutView",
            "align_content": null,
            "align_items": null,
            "align_self": null,
            "border": null,
            "bottom": null,
            "display": null,
            "flex": null,
            "flex_flow": null,
            "grid_area": null,
            "grid_auto_columns": null,
            "grid_auto_flow": null,
            "grid_auto_rows": null,
            "grid_column": null,
            "grid_gap": null,
            "grid_row": null,
            "grid_template_areas": null,
            "grid_template_columns": null,
            "grid_template_rows": null,
            "height": null,
            "justify_content": null,
            "justify_items": null,
            "left": null,
            "margin": null,
            "max_height": null,
            "max_width": null,
            "min_height": null,
            "min_width": null,
            "object_fit": null,
            "object_position": null,
            "order": null,
            "overflow": null,
            "overflow_x": null,
            "overflow_y": null,
            "padding": null,
            "right": null,
            "top": null,
            "visibility": null,
            "width": null
          }
        },
        "f272a10730184d2ba47b5031cbf3ae0a": {
          "model_module": "@jupyter-widgets/controls",
          "model_name": "DescriptionStyleModel",
          "model_module_version": "1.5.0",
          "state": {
            "_model_module": "@jupyter-widgets/controls",
            "_model_module_version": "1.5.0",
            "_model_name": "DescriptionStyleModel",
            "_view_count": null,
            "_view_module": "@jupyter-widgets/base",
            "_view_module_version": "1.2.0",
            "_view_name": "StyleView",
            "description_width": ""
          }
        },
        "dde63d91772d47c6b79dc0dc23080647": {
          "model_module": "@jupyter-widgets/controls",
          "model_name": "DatePickerModel",
          "model_module_version": "1.5.0",
          "state": {
            "_dom_classes": [],
            "_model_module": "@jupyter-widgets/controls",
            "_model_module_version": "1.5.0",
            "_model_name": "DatePickerModel",
            "_view_count": null,
            "_view_module": "@jupyter-widgets/controls",
            "_view_module_version": "1.5.0",
            "_view_name": "DatePickerView",
            "description": "Start Date",
            "description_tooltip": null,
            "disabled": false,
            "layout": "IPY_MODEL_d1937631df744a1c83b1ecc6a3befd85",
            "style": "IPY_MODEL_25d964b2837e4356bdf6574a848ec22e",
            "value": null
          }
        },
        "d1937631df744a1c83b1ecc6a3befd85": {
          "model_module": "@jupyter-widgets/base",
          "model_name": "LayoutModel",
          "model_module_version": "1.2.0",
          "state": {
            "_model_module": "@jupyter-widgets/base",
            "_model_module_version": "1.2.0",
            "_model_name": "LayoutModel",
            "_view_count": null,
            "_view_module": "@jupyter-widgets/base",
            "_view_module_version": "1.2.0",
            "_view_name": "LayoutView",
            "align_content": null,
            "align_items": null,
            "align_self": null,
            "border": null,
            "bottom": null,
            "display": null,
            "flex": null,
            "flex_flow": null,
            "grid_area": null,
            "grid_auto_columns": null,
            "grid_auto_flow": null,
            "grid_auto_rows": null,
            "grid_column": null,
            "grid_gap": null,
            "grid_row": null,
            "grid_template_areas": null,
            "grid_template_columns": null,
            "grid_template_rows": null,
            "height": null,
            "justify_content": null,
            "justify_items": null,
            "left": null,
            "margin": null,
            "max_height": null,
            "max_width": null,
            "min_height": null,
            "min_width": null,
            "object_fit": null,
            "object_position": null,
            "order": null,
            "overflow": null,
            "overflow_x": null,
            "overflow_y": null,
            "padding": null,
            "right": null,
            "top": null,
            "visibility": null,
            "width": null
          }
        },
        "25d964b2837e4356bdf6574a848ec22e": {
          "model_module": "@jupyter-widgets/controls",
          "model_name": "DescriptionStyleModel",
          "model_module_version": "1.5.0",
          "state": {
            "_model_module": "@jupyter-widgets/controls",
            "_model_module_version": "1.5.0",
            "_model_name": "DescriptionStyleModel",
            "_view_count": null,
            "_view_module": "@jupyter-widgets/base",
            "_view_module_version": "1.2.0",
            "_view_name": "StyleView",
            "description_width": ""
          }
        },
        "f951eabf0bff49feaa14378a4a87bd88": {
          "model_module": "@jupyter-widgets/controls",
          "model_name": "DatePickerModel",
          "model_module_version": "1.5.0",
          "state": {
            "_dom_classes": [],
            "_model_module": "@jupyter-widgets/controls",
            "_model_module_version": "1.5.0",
            "_model_name": "DatePickerModel",
            "_view_count": null,
            "_view_module": "@jupyter-widgets/controls",
            "_view_module_version": "1.5.0",
            "_view_name": "DatePickerView",
            "description": "End Date",
            "description_tooltip": null,
            "disabled": false,
            "layout": "IPY_MODEL_aa1e5a7e643b41a0ab2e50ec2729fe7a",
            "style": "IPY_MODEL_0eb4d3c6c2b44f0984a8ccbae2b351ee",
            "value": null
          }
        },
        "aa1e5a7e643b41a0ab2e50ec2729fe7a": {
          "model_module": "@jupyter-widgets/base",
          "model_name": "LayoutModel",
          "model_module_version": "1.2.0",
          "state": {
            "_model_module": "@jupyter-widgets/base",
            "_model_module_version": "1.2.0",
            "_model_name": "LayoutModel",
            "_view_count": null,
            "_view_module": "@jupyter-widgets/base",
            "_view_module_version": "1.2.0",
            "_view_name": "LayoutView",
            "align_content": null,
            "align_items": null,
            "align_self": null,
            "border": null,
            "bottom": null,
            "display": null,
            "flex": null,
            "flex_flow": null,
            "grid_area": null,
            "grid_auto_columns": null,
            "grid_auto_flow": null,
            "grid_auto_rows": null,
            "grid_column": null,
            "grid_gap": null,
            "grid_row": null,
            "grid_template_areas": null,
            "grid_template_columns": null,
            "grid_template_rows": null,
            "height": null,
            "justify_content": null,
            "justify_items": null,
            "left": null,
            "margin": null,
            "max_height": null,
            "max_width": null,
            "min_height": null,
            "min_width": null,
            "object_fit": null,
            "object_position": null,
            "order": null,
            "overflow": null,
            "overflow_x": null,
            "overflow_y": null,
            "padding": null,
            "right": null,
            "top": null,
            "visibility": null,
            "width": null
          }
        },
        "0eb4d3c6c2b44f0984a8ccbae2b351ee": {
          "model_module": "@jupyter-widgets/controls",
          "model_name": "DescriptionStyleModel",
          "model_module_version": "1.5.0",
          "state": {
            "_model_module": "@jupyter-widgets/controls",
            "_model_module_version": "1.5.0",
            "_model_name": "DescriptionStyleModel",
            "_view_count": null,
            "_view_module": "@jupyter-widgets/base",
            "_view_module_version": "1.2.0",
            "_view_name": "StyleView",
            "description_width": ""
          }
        },
        "8de7cfce1a2c4b0ea4418fc6b474aaab": {
          "model_module": "@jupyter-widgets/controls",
          "model_name": "ButtonModel",
          "model_module_version": "1.5.0",
          "state": {
            "_dom_classes": [],
            "_model_module": "@jupyter-widgets/controls",
            "_model_module_version": "1.5.0",
            "_model_name": "ButtonModel",
            "_view_count": null,
            "_view_module": "@jupyter-widgets/controls",
            "_view_module_version": "1.5.0",
            "_view_name": "ButtonView",
            "button_style": "success",
            "description": "Download",
            "disabled": false,
            "icon": "",
            "layout": "IPY_MODEL_d528c0008ed548adbbba977411f7f1d7",
            "style": "IPY_MODEL_44cbe34b0cf445b09b366b3ae65cdd1c",
            "tooltip": ""
          }
        },
        "d528c0008ed548adbbba977411f7f1d7": {
          "model_module": "@jupyter-widgets/base",
          "model_name": "LayoutModel",
          "model_module_version": "1.2.0",
          "state": {
            "_model_module": "@jupyter-widgets/base",
            "_model_module_version": "1.2.0",
            "_model_name": "LayoutModel",
            "_view_count": null,
            "_view_module": "@jupyter-widgets/base",
            "_view_module_version": "1.2.0",
            "_view_name": "LayoutView",
            "align_content": null,
            "align_items": null,
            "align_self": null,
            "border": null,
            "bottom": null,
            "display": null,
            "flex": null,
            "flex_flow": null,
            "grid_area": null,
            "grid_auto_columns": null,
            "grid_auto_flow": null,
            "grid_auto_rows": null,
            "grid_column": null,
            "grid_gap": null,
            "grid_row": null,
            "grid_template_areas": null,
            "grid_template_columns": null,
            "grid_template_rows": null,
            "height": null,
            "justify_content": null,
            "justify_items": null,
            "left": null,
            "margin": null,
            "max_height": null,
            "max_width": null,
            "min_height": null,
            "min_width": null,
            "object_fit": null,
            "object_position": null,
            "order": null,
            "overflow": null,
            "overflow_x": null,
            "overflow_y": null,
            "padding": null,
            "right": null,
            "top": null,
            "visibility": null,
            "width": null
          }
        },
        "44cbe34b0cf445b09b366b3ae65cdd1c": {
          "model_module": "@jupyter-widgets/controls",
          "model_name": "ButtonStyleModel",
          "model_module_version": "1.5.0",
          "state": {
            "_model_module": "@jupyter-widgets/controls",
            "_model_module_version": "1.5.0",
            "_model_name": "ButtonStyleModel",
            "_view_count": null,
            "_view_module": "@jupyter-widgets/base",
            "_view_module_version": "1.2.0",
            "_view_name": "StyleView",
            "button_color": null,
            "font_weight": ""
          }
        },
        "c6e86ab2424a4683826b66b593a424bb": {
          "model_module": "@jupyter-widgets/controls",
          "model_name": "HTMLModel",
          "model_module_version": "1.5.0",
          "state": {
            "_dom_classes": [],
            "_model_module": "@jupyter-widgets/controls",
            "_model_module_version": "1.5.0",
            "_model_name": "HTMLModel",
            "_view_count": null,
            "_view_module": "@jupyter-widgets/controls",
            "_view_module_version": "1.5.0",
            "_view_name": "HTMLView",
            "description": "",
            "description_tooltip": null,
            "layout": "IPY_MODEL_544214fc0c894908b5f0aeecfd720f3f",
            "placeholder": "​",
            "style": "IPY_MODEL_198a480ac01842f5aa9fe2e7c32e4636",
            "value": ""
          }
        },
        "544214fc0c894908b5f0aeecfd720f3f": {
          "model_module": "@jupyter-widgets/base",
          "model_name": "LayoutModel",
          "model_module_version": "1.2.0",
          "state": {
            "_model_module": "@jupyter-widgets/base",
            "_model_module_version": "1.2.0",
            "_model_name": "LayoutModel",
            "_view_count": null,
            "_view_module": "@jupyter-widgets/base",
            "_view_module_version": "1.2.0",
            "_view_name": "LayoutView",
            "align_content": null,
            "align_items": null,
            "align_self": null,
            "border": null,
            "bottom": null,
            "display": null,
            "flex": null,
            "flex_flow": null,
            "grid_area": null,
            "grid_auto_columns": null,
            "grid_auto_flow": null,
            "grid_auto_rows": null,
            "grid_column": null,
            "grid_gap": null,
            "grid_row": null,
            "grid_template_areas": null,
            "grid_template_columns": null,
            "grid_template_rows": null,
            "height": null,
            "justify_content": null,
            "justify_items": null,
            "left": null,
            "margin": null,
            "max_height": null,
            "max_width": null,
            "min_height": null,
            "min_width": null,
            "object_fit": null,
            "object_position": null,
            "order": null,
            "overflow": null,
            "overflow_x": null,
            "overflow_y": null,
            "padding": null,
            "right": null,
            "top": null,
            "visibility": null,
            "width": null
          }
        },
        "198a480ac01842f5aa9fe2e7c32e4636": {
          "model_module": "@jupyter-widgets/controls",
          "model_name": "DescriptionStyleModel",
          "model_module_version": "1.5.0",
          "state": {
            "_model_module": "@jupyter-widgets/controls",
            "_model_module_version": "1.5.0",
            "_model_name": "DescriptionStyleModel",
            "_view_count": null,
            "_view_module": "@jupyter-widgets/base",
            "_view_module_version": "1.2.0",
            "_view_name": "StyleView",
            "description_width": ""
          }
        }
      }
    }
  },
  "cells": [
    {
      "cell_type": "markdown",
      "metadata": {
        "id": "view-in-github",
        "colab_type": "text"
      },
      "source": [
        "<a href=\"https://colab.research.google.com/github/rishabr84/tools/blob/main/Untitled3.ipynb\" target=\"_parent\"><img src=\"https://colab.research.google.com/assets/colab-badge.svg\" alt=\"Open In Colab\"/></a>"
      ]
    },
    {
      "cell_type": "code",
      "execution_count": 1,
      "metadata": {
        "colab": {
          "base_uri": "https://localhost:8080/",
          "height": 145,
          "referenced_widgets": [
            "ac0bed08263d4e54a78a6e62bec79157",
            "19684ab73223414a8e08ff1157314e47",
            "f272a10730184d2ba47b5031cbf3ae0a",
            "dde63d91772d47c6b79dc0dc23080647",
            "d1937631df744a1c83b1ecc6a3befd85",
            "25d964b2837e4356bdf6574a848ec22e",
            "f951eabf0bff49feaa14378a4a87bd88",
            "aa1e5a7e643b41a0ab2e50ec2729fe7a",
            "0eb4d3c6c2b44f0984a8ccbae2b351ee",
            "8de7cfce1a2c4b0ea4418fc6b474aaab",
            "d528c0008ed548adbbba977411f7f1d7",
            "44cbe34b0cf445b09b366b3ae65cdd1c",
            "c6e86ab2424a4683826b66b593a424bb",
            "544214fc0c894908b5f0aeecfd720f3f",
            "198a480ac01842f5aa9fe2e7c32e4636"
          ]
        },
        "id": "QHumke9bHXIy",
        "outputId": "fb2a07ca-7bb0-4967-beac-a82b61145115"
      },
      "outputs": [
        {
          "output_type": "display_data",
          "data": {
            "text/plain": [
              "Text(value='', description='Stock Ticker:', placeholder='Enter Stock Ticker')"
            ],
            "application/vnd.jupyter.widget-view+json": {
              "version_major": 2,
              "version_minor": 0,
              "model_id": "ac0bed08263d4e54a78a6e62bec79157"
            }
          },
          "metadata": {}
        },
        {
          "output_type": "display_data",
          "data": {
            "text/plain": [
              "DatePicker(value=None, description='Start Date')"
            ],
            "application/vnd.jupyter.widget-view+json": {
              "version_major": 2,
              "version_minor": 0,
              "model_id": "dde63d91772d47c6b79dc0dc23080647"
            }
          },
          "metadata": {}
        },
        {
          "output_type": "display_data",
          "data": {
            "text/plain": [
              "DatePicker(value=None, description='End Date')"
            ],
            "application/vnd.jupyter.widget-view+json": {
              "version_major": 2,
              "version_minor": 0,
              "model_id": "f951eabf0bff49feaa14378a4a87bd88"
            }
          },
          "metadata": {}
        },
        {
          "output_type": "display_data",
          "data": {
            "text/plain": [
              "Button(button_style='success', description='Download', style=ButtonStyle())"
            ],
            "application/vnd.jupyter.widget-view+json": {
              "version_major": 2,
              "version_minor": 0,
              "model_id": "8de7cfce1a2c4b0ea4418fc6b474aaab"
            }
          },
          "metadata": {}
        },
        {
          "output_type": "display_data",
          "data": {
            "text/plain": [
              "HTML(value='')"
            ],
            "application/vnd.jupyter.widget-view+json": {
              "version_major": 2,
              "version_minor": 0,
              "model_id": "c6e86ab2424a4683826b66b593a424bb"
            }
          },
          "metadata": {}
        }
      ],
      "source": [
        "import pandas as pd\n",
        "import yfinance as yf\n",
        "from IPython.display import display, HTML\n",
        "import ipywidgets as widgets\n",
        "import io\n",
        "import base64\n",
        "import ipywidgets as widgets\n",
        "from IPython.display import display, HTML\n",
        "\n",
        "# Create widgets\n",
        "stock_ticker = widgets.Text(\n",
        "    value='',\n",
        "    description='Stock Ticker:',\n",
        "    placeholder='Enter Stock Ticker'\n",
        ")\n",
        "\n",
        "start_date_picker = widgets.DatePicker(\n",
        "    description='Start Date',\n",
        "    disabled=False\n",
        ")\n",
        "\n",
        "end_date_picker = widgets.DatePicker(\n",
        "    description='End Date',\n",
        "    disabled=False\n",
        ")\n",
        "\n",
        "fetch_button = widgets.Button(\n",
        "    description=\"Download\",\n",
        "    button_style=\"success\"\n",
        ")\n",
        "\n",
        "download_link = widgets.HTML(value='')  # Empty HTML widget to display the download link\n",
        "\n",
        "# Display widgets\n",
        "display(stock_ticker, start_date_picker, end_date_picker, fetch_button, download_link)\n",
        "\n",
        "# Placeholder for the DataFrame\n",
        "df = pd.DataFrame()\n",
        "\n",
        "# Define fetch button click event\n",
        "def on_fetch_click(b):\n",
        "    global df  # To allow access for download\n",
        "    ticker = stock_ticker.value\n",
        "    start_date = start_date_picker.value\n",
        "    end_date = end_date_picker.value\n",
        "\n",
        "    if not ticker:\n",
        "        print(\"Please enter a valid stock ticker.\")\n",
        "    elif not start_date or not end_date:\n",
        "        print(\"Please select both start and end dates.\")\n",
        "    elif start_date > end_date:\n",
        "        print(\"Invalid range: Start Date is after End Date!\")\n",
        "    else:\n",
        "        # Fetch stock data\n",
        "        print(f\"Fetching data for {ticker} from {start_date} to {end_date}...\")\n",
        "        try:\n",
        "            df = yf.download(ticker, start=start_date, end=end_date)\n",
        "            if df.empty:\n",
        "                print(f\"No data found for {ticker}. Please check the ticker symbol.\")\n",
        "                download_link.value = ''\n",
        "            else:\n",
        "                print(\"Data fetched successfully!\")\n",
        "                display(df.head())\n",
        "\n",
        "                # Generate download link\n",
        "                download_link.value = create_download_link(df, f\"{ticker}_data.csv\")\n",
        "        except Exception as e:\n",
        "            print(f\"Error fetching data: {e}\")\n",
        "            download_link.value = ''\n",
        "\n",
        "# Function to create a download link\n",
        "def create_download_link(dataframe, filename):\n",
        "    # Convert DataFrame to CSV\n",
        "    csv_buffer = io.StringIO()\n",
        "    dataframe.to_csv(csv_buffer)\n",
        "    csv_buffer.seek(0)\n",
        "\n",
        "    # Encode CSV to Base64\n",
        "    b64 = base64.b64encode(csv_buffer.getvalue().encode()).decode()\n",
        "    href = f'<a href=\"data:text/csv;base64,{b64}\" download=\"{filename}\">Download {filename}</a>'\n",
        "\n",
        "    return href\n",
        "\n",
        "# Link fetch button to its handler\n",
        "fetch_button.on_click(on_fetch_click)\n",
        "\n",
        "\n",
        "\n"
      ]
    },
    {
      "cell_type": "code",
      "source": [],
      "metadata": {
        "id": "3aqt7_lLHYke"
      },
      "execution_count": null,
      "outputs": []
    }
  ]
}